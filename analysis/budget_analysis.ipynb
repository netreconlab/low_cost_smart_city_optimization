{
 "cells": [
  {
   "cell_type": "code",
   "execution_count": 28,
   "metadata": {},
   "outputs": [],
   "source": [
    "import json\n",
    "import sys\n",
    "sys.path.append('/Users/esthermax-onakpoya/Documents/LowCostSC/low_cost_smart_city_optimization')\n",
    "import sim\n",
    "import collections\n",
    "import pandas as pd\n",
    "import numpy as np\n",
    "import seaborn as sns; sns.set()\n",
    "import matplotlib.pyplot as plt\n",
    "from collections import defaultdict as dd\n",
    "from os import listdir\n",
    "from matplotlib import ticker"
   ]
  },
  {
   "cell_type": "code",
   "execution_count": 29,
   "metadata": {},
   "outputs": [
    {
     "data": {
      "text/plain": [
       "['celf', 'betweenness', '.DS_Store', 'indegree']"
      ]
     },
     "execution_count": 29,
     "metadata": {},
     "output_type": "execute_result"
    }
   ],
   "source": [
    "data = collections.defaultdict(list)\n",
    "sns.set(style=\"whitegrid\")\n",
    "sns.set_context(\"paper\", font_scale=1.5) #rc={\"lines.linewidth\": 2.5})\n",
    "results_folder= \"../results/paper/cht\"\n",
    "# results_folder= \"results/thesis/cht/budget\"\n",
    "#results_folder= \"results/thesis/louisville/budget\"\n",
    "listdir(results_folder)"
   ]
  },
  {
   "cell_type": "code",
   "execution_count": 30,
   "metadata": {},
   "outputs": [
    {
     "name": "stdout",
     "output_type": "stream",
     "text": [
      "celf\n"
     ]
    },
    {
     "name": "stderr",
     "output_type": "stream",
     "text": [
      "/Users/esthermax-onakpoya/opt/anaconda3/lib/python3.7/site-packages/ipykernel_launcher.py:43: RuntimeWarning: Mean of empty slice\n"
     ]
    },
    {
     "name": "stdout",
     "output_type": "stream",
     "text": [
      "betweenness\n",
      "indegree\n",
      "[1, 2, 3, 4, 5, 6, 7, 8, 9, 10, 11, 12, 13, 14, 15]\n"
     ]
    },
    {
     "data": {
      "text/plain": [
       "<Figure size 432x288 with 0 Axes>"
      ]
     },
     "metadata": {},
     "output_type": "display_data"
    }
   ],
   "source": [
    "from collections import defaultdict\n",
    "cities = defaultdict(dict)\n",
    "\n",
    "for sub_folder in listdir(results_folder):\n",
    "    \n",
    "    if sub_folder=='.DS_Store':\n",
    "        continue\n",
    "        \n",
    "    if not (sub_folder in [\"celf\", \"indegree\", \"betweenness\"]):#[\"betweenness\", , \"celf\"]):\n",
    "        continue\n",
    "        \n",
    "    print(sub_folder)\n",
    "    dirr = \"{0}/{1}/\".format(results_folder,sub_folder)\n",
    "    r = listdir(dirr)\n",
    "    groups = {}\n",
    "    linestrings = {}\n",
    "    s_string = \"\"\n",
    "    end1_start2 =dd(list)\n",
    "\n",
    "    all_budgets = set()\n",
    "    \n",
    "    ons, ons_msgs, ons_wait_times, ons_route_times = defaultdict(list),defaultdict(list),defaultdict(list),defaultdict(list)\n",
    "    total_generated, total_delivered = defaultdict(int),defaultdict(int)\n",
    "    \n",
    "    total_delay, delivered_gen, total_gen = defaultdict(int),defaultdict(int),defaultdict(int)\n",
    "    \n",
    "    for x in r[:]:\n",
    "        if x=='.DS_Store':\n",
    "            continue\n",
    "        budget = int(x.split(\"_\")[-3][6:])\n",
    "        all_budgets.add(budget)\n",
    "        \n",
    "        \n",
    "        with open(dirr + x, 'r', encoding='utf-8') as json_file:\n",
    "             \n",
    "            result = json.load(json_file)\n",
    "\n",
    "            for d in result['ons']:\n",
    "                l = np.array(d['all_latencies'], dtype=float)\n",
    "                #for delay graph\n",
    "                l[np.isnan(l)] = sim.upper_bound_delay\n",
    "                median = np.nanmedian(l)\n",
    "                mean = np.nanmean(l)\n",
    "                temp = {\n",
    "                        'Median Delay (minutes)': median /60,\n",
    "                        'Median Delay (hours)': median /60/60,\n",
    "                        'Mean Delay (minutes)': mean /60,\n",
    "                        'mean Delay (hours)': mean /60/60,\n",
    "                        'delivery_rate': d['delivery_rate']\n",
    "                        }\n",
    "\n",
    "                #print(budget)\n",
    "                ons[budget].append(temp)\n",
    "                ons_msgs[budget].extend([val/60 for val in l])\n",
    "\n",
    "\n",
    "                for i in range(len(d['all_waiting_times'])):\n",
    "                    ons_wait_times[budget].append(d['all_waiting_times'][i])\n",
    "                    \n",
    "                    if d['all_waiting_times'][i] == None:\n",
    "                        ons_route_times[budget].append(None)\n",
    "                    else: \n",
    "                        ons_route_times[budget].append(d['all_latencies'][i] - d['all_waiting_times'][i])\n",
    "                        \n",
    "                total_generated[budget] += len(d['all_gen_times'])\n",
    "                total_delivered[budget] += len(d['delivered_gen_times'])\n",
    "                \n",
    "                total_delay[budget] += result['total_delay']\n",
    "                delivered_gen[budget] += result['delivered_gen']\n",
    "                total_gen[budget] = result['total_gen']\n",
    "\n",
    "\n",
    "    all_budgets = sorted(list(all_budgets))\n",
    "    for b in all_budgets:\n",
    "        #print(b, np.nanmean(ons_msgs[b]))\n",
    "        ons_msgs[b] = np.array(ons_msgs[b], dtype=float)\n",
    "        ons_wait_times[b] = np.array(ons_wait_times[b], dtype=float)/60\n",
    "        ons_route_times[b] = np.array(ons_route_times[b], dtype=float)/60\n",
    "\n",
    "#     ons_msgs = [np.array(x, dtype=float) for x in ons_msgs]\n",
    "#     ons_wait_times = [np.array(x, dtype=float)/60 for x in ons_wait_times]\n",
    "#     ons_route_times = [np.array(x, dtype=float)/60 for x in ons_route_times]\n",
    "    \n",
    "    \n",
    "#     ons_msgs = [np.array(x, dtype=float) for b in range(len(ons_msgs)) for x in ons_msgs[b]]\n",
    "#     ons_wait_times = [[np.array(x, dtype=float)/60 for b in range(len(ons_wait_times))] for x in ons_wait_times[b]]\n",
    "#     ons_route_times = [[np.array(x, dtype=float)/60 for b in range(len(ons_route_times))] for x in ons_route_times[b]]\n",
    "    \n",
    "    \n",
    "    for b in all_budgets:\n",
    "        cities[sub_folder][b] = {\n",
    "            'ons': ons[b],\n",
    "            'ons_msgs': ons_msgs[b],\n",
    "            'ons_wait_times': ons_wait_times[b],\n",
    "            'ons_route_times': ons_route_times[b],\n",
    "            'df1': pd.DataFrame(ons[b]),\n",
    "            'df2': pd.DataFrame(\n",
    "                {\n",
    "                    'wait_times': ons_wait_times[b],\n",
    "                    'route_times': ons_route_times[b]\n",
    "                }\n",
    "            ),\n",
    "            'total_generated': total_generated[b],\n",
    "            'total_delivered': total_delivered[b],\n",
    "            'total_delay': total_delay[b], \n",
    "            'delivered_gen': delivered_gen[b] ,\n",
    "            'total_gen': total_gen[b]\n",
    "        }\n",
    "    \n",
    "\n",
    "sns.set(font_scale=1.6, style=\"whitegrid\") \n",
    "plt.subplots_adjust(hspace=0.35, wspace=0.2)\n",
    "\n",
    "print(all_budgets)"
   ]
  },
  {
   "cell_type": "code",
   "execution_count": 31,
   "metadata": {},
   "outputs": [],
   "source": [
    "for k,v in cities.items():\n",
    "    v[\"mean_budget_delays_per_sensor\"] = []\n",
    "    v[\"median_budget_delays_per_sensor\"] = []\n",
    "    v[\"mean_budget_delays\"] = []\n",
    "    v[\"median_budget_delays\"] = []\n",
    "    v[\"mean_delivery_rate_per_sensor\"] = []\n",
    "    v[\"cummulative_delivery_rate\"] = []\n",
    "    v[\"budget_delays\"] = []\n",
    "    \n",
    "    v['total_mean_delay'] = []\n",
    "    v['total_median_delay'] = []\n",
    "    v['total_delivery_rate'] = []\n",
    "        \n",
    "#     total_delay = 0\n",
    "#     total_generated = 0\n",
    "#     total delivered = 0\n",
    "    for b in all_budgets:\n",
    "        v[\"mean_budget_delays_per_sensor\"].append(np.nanmean(v[b]['df1']['Mean Delay (minutes)']))\n",
    "        v[\"median_budget_delays_per_sensor\"].append(np.nanmedian(v[b]['df1']['Median Delay (minutes)']))\n",
    "        v[\"mean_budget_delays\"].append(np.nanmean(v[b]['ons_msgs']))\n",
    "        v[\"budget_delays\"].append(v[b]['ons_msgs'])\n",
    "        v[\"median_budget_delays\"].append(np.nanmedian(v[b]['ons_msgs']))\n",
    "        v[\"mean_delivery_rate_per_sensor\"].append(np.nanmean(v[b]['df1']['delivery_rate']))\n",
    "        v[\"cummulative_delivery_rate\"].append(v[b]['total_delivered']/v[b]['total_generated'])\n",
    "        \n",
    "#         total_delay = 0\n",
    "#         total_generated = 0\n",
    "#         total delivered = 0\n",
    "        \n",
    "        v['total_mean_delay'].append(v[b]['total_delay'] / v[b]['total_gen'])\n",
    "        v['total_median_delay'] = total_delay[b]\n",
    "        v['total_delivery_rate'].append(v[b]['delivered_gen'] / v[b]['total_gen'])\n",
    "\n",
    "#     print(k, v[\"mean_budget_delays_per_sensor\"], v[\"median_budget_delays_per_sensor\"])\n",
    "#     print(v[\"mean_budget_delays\"], v[\"median_budget_delays\"])\n",
    "#     print(v[\"median_delivery_rate_per_sensor\"], v[\"cummulative_delivery_rate\"])"
   ]
  },
  {
   "cell_type": "code",
   "execution_count": 32,
   "metadata": {},
   "outputs": [
    {
     "data": {
      "text/plain": [
       "[1156.8952228307537,\n",
       " 802.7863532053078,\n",
       " 517.3699260154117,\n",
       " 516.3880782527999,\n",
       " 512.3932737784891,\n",
       " 511.82795015060407,\n",
       " 511.3179721290848,\n",
       " 510.6271485818912,\n",
       " 510.10183143160384,\n",
       " 491.41079049637625,\n",
       " 490.64931601898917,\n",
       " 490.53513145118814,\n",
       " 490.4695753222728,\n",
       " 490.4290337643832,\n",
       " 490.42147582369415]"
      ]
     },
     "execution_count": 32,
     "metadata": {},
     "output_type": "execute_result"
    }
   ],
   "source": [
    "cities[\"indegree\"][\"mean_budget_delays\"]"
   ]
  },
  {
   "cell_type": "code",
   "execution_count": 33,
   "metadata": {
    "scrolled": true
   },
   "outputs": [
    {
     "name": "stdout",
     "output_type": "stream",
     "text": [
      "[122.45573038970139, 69.72047944609918, 64.14598376206673, 59.913801651157776, 55.310848959213175, 55.22709092448328, 54.030096499240926, 52.919047619047625, 52.736780159730976, 52.059459576768646, 51.105094130675525, 50.942909876880876, 50.7662930371434, 50.59009457441513, 48.41663340814341]\n",
      "[177.0333367315022, 174.00557281737338, 100.0281320317594, 99.72047944609918, 99.72047944609918, 99.72047944609918, 99.44695068935536, 95.03532876337474, 94.0, 94.0, 92.48427005472409, 92.48427005472409, 92.30061232300038, 92.26326530612245, 63.035765568504225]\n",
      "[1560.0, 385.3503624494452, 89.2874607833535, 88.38580691348791, 87.48227802285159, 86.96232239205364, 86.38580691348791, 85.36037783701305, 84.36836178283548, 81.71875, 80.3963237230501, 80.3006123230004, 80.25802539015122, 80.23577624975215, 80.23577624975215]\n"
     ]
    },
    {
     "data": {
      "image/png": "[encoded data removed]",
      "text/plain": [
       "<Figure size 432x288 with 1 Axes>"
      ]
     },
     "metadata": {},
     "output_type": "display_data"
    }
   ],
   "source": [
    "#plt.axes(figsize=(10,10))\n",
    "sns.set_context(\"paper\", font_scale=1.4) #rc={\"lines.linewidth\": 2.5})\n",
    "algos = ['celf', 'betweenness', 'indegree']\n",
    "\n",
    "x_axis = range(all_budgets[0], all_budgets[-1]+1)\n",
    "\n",
    "#attribute = \"mean_budget_delays_per_sensor\"\n",
    "#attribute = \"median_budget_delays_per_sensor\"\n",
    "#attribute = \"mean_budget_delays\"\n",
    "attribute = \"median_budget_delays\"\n",
    "#attribute = \"mean_delivery_rate_per_sensor\"\n",
    "#attribute = \"cummulative_delivery_rate\"\n",
    "#attribute = \"total_delivery_rate\"\n",
    "#attribute = \"total_mean_delay\"\n",
    "\n",
    "y = cities[\"celf\"][attribute]\n",
    "ax = sns.lineplot(x=x_axis, y =y, color='blue', marker=\"s\", label=\"CELF-MDD\")\n",
    "print(y)\n",
    "\n",
    "y = cities[\"betweenness\"][attribute]\n",
    "ax = sns.lineplot(x=x_axis, y =y, color='red', marker=\"^\", label=\"BC\")\n",
    "print(y)\n",
    "\n",
    "y = cities[\"indegree\"][attribute]\n",
    "ax = sns.lineplot(x=x_axis, y =y, color='green', marker=\"d\", label=\"IC\")\n",
    "print(y)\n",
    "\n",
    "# #x,y = process(closeness)\n",
    "# #ax = sns.lineplot(x=x, y =y, color='purple', label=\"closeness\")\n",
    "\n",
    "\n",
    "#ax.yaxis.set_major_locator(ticker.MultipleLocator(250))\n",
    "ax.xaxis.set_major_locator(ticker.MultipleLocator(1))\n",
    "\n",
    "ax.set(ylim=(0, 200))\n",
    "ax.set_xlabel(\"Budget\")\n",
    "ax.set_ylabel(\"Median delay (minutes)\")\n",
    "plt.savefig('../images/budget_med_delay_cht.png', dpi=90)"
   ]
  },
  {
   "cell_type": "code",
   "execution_count": 34,
   "metadata": {},
   "outputs": [],
   "source": [
    "plt.savefig?"
   ]
  },
  {
   "cell_type": "code",
   "execution_count": 35,
   "metadata": {
    "scrolled": true
   },
   "outputs": [
    {
     "data": {
      "image/png": "[encoded data removed]",
      "text/plain": [
       "<Figure size 432x288 with 1 Axes>"
      ]
     },
     "metadata": {},
     "output_type": "display_data"
    }
   ],
   "source": [
    "#plt.axes(figsize=(10,10))\n",
    "sns.set_context(\"paper\", font_scale=1.4) #rc={\"lines.linewidth\": 2.5})\n",
    "algos = ['celf', 'betweenness', 'indegree']\n",
    "\n",
    "x_axis = range(all_budgets[0], all_budgets[-1]+1)\n",
    "\n",
    "#attribute = \"mean_budget_delays_per_sensor\"\n",
    "#attribute = \"median_budget_delays_per_sensor\"\n",
    "attribute = \"mean_budget_delays\"\n",
    "#attribute = \"median_budget_delays\"\n",
    "#attribute = \"mean_delivery_rate_per_sensor\"\n",
    "#attribute = \"cummulative_delivery_rate\"\n",
    "#attribute = \"total_delivery_rate\"\n",
    "#attribute = \"total_mean_delay\"\n",
    "\n",
    "y = cities[\"celf\"][attribute]\n",
    "ax = sns.lineplot(x=x_axis, y =y, color='blue', label=\"CELF\")\n",
    "\n",
    "y = cities[\"betweenness\"][attribute]\n",
    "ax = sns.lineplot(x=x_axis, y =y, color='red', label=\"Betweenness\")\n",
    "\n",
    "y = cities[\"indegree\"][attribute]\n",
    "ax = sns.lineplot(x=x_axis, y =y, color='green', label=\"indegree\")\n",
    "\n",
    "# #x,y = process(closeness)\n",
    "# #ax = sns.lineplot(x=x, y =y, color='purple', label=\"closeness\")\n",
    "\n",
    "\n",
    "ax.yaxis.set_major_locator(ticker.MultipleLocator(100))\n",
    "ax.xaxis.set_major_locator(ticker.MultipleLocator(1))\n",
    "\n",
    "ax.set_xlabel(\"Budget\")\n",
    "ax.set_ylabel(\"Mean Delay\\n(minutes)\")\n",
    "plt.savefig('../images/budget_mean_delay_cht.png', dpi='figure')"
   ]
  },
  {
   "cell_type": "code",
   "execution_count": 36,
   "metadata": {
    "scrolled": true
   },
   "outputs": [
    {
     "ename": "NameError",
     "evalue": "name 'tips' is not defined",
     "output_type": "error",
     "traceback": [
      "\u001b[0;31m---------------------------------------------------------------------------\u001b[0m",
      "\u001b[0;31mNameError\u001b[0m                                 Traceback (most recent call last)",
      "\u001b[0;32m<ipython-input-36-9c72b60ae232>\u001b[0m in \u001b[0;36m<module>\u001b[0;34m\u001b[0m\n\u001b[1;32m     19\u001b[0m sns.boxplot(x=x_axis, y=\"budget_delays\",\n\u001b[1;32m     20\u001b[0m             \u001b[0mhue\u001b[0m\u001b[0;34m=\u001b[0m\u001b[0;34m\"smoker\"\u001b[0m\u001b[0;34m,\u001b[0m \u001b[0mpalette\u001b[0m\u001b[0;34m=\u001b[0m\u001b[0;34m[\u001b[0m\u001b[0;34m\"m\"\u001b[0m\u001b[0;34m,\u001b[0m \u001b[0;34m\"g\"\u001b[0m\u001b[0;34m]\u001b[0m\u001b[0;34m,\u001b[0m\u001b[0;34m\u001b[0m\u001b[0;34m\u001b[0m\u001b[0m\n\u001b[0;32m---> 21\u001b[0;31m             data=tips)\n\u001b[0m\u001b[1;32m     22\u001b[0m \u001b[0msns\u001b[0m\u001b[0;34m.\u001b[0m\u001b[0mdespine\u001b[0m\u001b[0;34m(\u001b[0m\u001b[0moffset\u001b[0m\u001b[0;34m=\u001b[0m\u001b[0;36m10\u001b[0m\u001b[0;34m,\u001b[0m \u001b[0mtrim\u001b[0m\u001b[0;34m=\u001b[0m\u001b[0;32mTrue\u001b[0m\u001b[0;34m)\u001b[0m\u001b[0;34m\u001b[0m\u001b[0;34m\u001b[0m\u001b[0m\n\u001b[1;32m     23\u001b[0m \u001b[0;34m\u001b[0m\u001b[0m\n",
      "\u001b[0;31mNameError\u001b[0m: name 'tips' is not defined"
     ]
    },
    {
     "data": {
      "image/png": "[encoded data removed]",
      "text/plain": [
       "<Figure size 432x288 with 1 Axes>"
      ]
     },
     "metadata": {},
     "output_type": "display_data"
    }
   ],
   "source": [
    "#plt.axes(figsize=(10,10))\n",
    "sns.set_context(\"paper\", font_scale=1.4) #rc={\"lines.linewidth\": 2.5})\n",
    "algos = ['celf', 'betweenness', 'indegree']\n",
    "\n",
    "x_axis = range(all_budgets[0], all_budgets[-1]+1)\n",
    "\n",
    "y = cities[\"celf\"][attribute]\n",
    "ax = sns.lineplot(x=x_axis, y =y, color='blue', label=\"CELF\")\n",
    "\n",
    "y = cities[\"betweenness\"][attribute]\n",
    "ax = sns.lineplot(x=x_axis, y =y, color='red', label=\"Betweenness\")\n",
    "\n",
    "y = cities[\"indegree\"][attribute]\n",
    "ax = sns.lineplot(x=x_axis, y =y, color='green', label=\"indegree\")\n",
    "\n",
    "# #x,y = process(closeness)\n",
    "# #ax = sns.lineplot(x=x, y =y, color='purple', label=\"closeness\")\n",
    "\n",
    "sns.boxplot(x=x_axis, y=\"budget_delays\",\n",
    "            hue=\"smoker\", palette=[\"m\", \"g\"],\n",
    "            data=tips)\n",
    "sns.despine(offset=10, trim=True)\n",
    "\n",
    "# #ax.yaxis.set_major_locator(ticker.MultipleLocator(250))\n",
    "# ax.xaxis.set_major_locator(ticker.MultipleLocator(1))\n",
    "\n",
    "# ax.set_xlabel(\"Budget\")\n",
    "# ax.set_ylabel(\"Mean Delay\\n(minutes)\")\n",
    "# plt.savefig('budget_mean_delay_cht.png', dpi=150)"
   ]
  },
  {
   "cell_type": "code",
   "execution_count": 37,
   "metadata": {},
   "outputs": [],
   "source": [
    "sns.boxplot??"
   ]
  },
  {
   "cell_type": "code",
   "execution_count": 38,
   "metadata": {
    "scrolled": true
   },
   "outputs": [
    {
     "data": {
      "image/png": "[encoded data removed]",
      "text/plain": [
       "<Figure size 432x288 with 1 Axes>"
      ]
     },
     "metadata": {},
     "output_type": "display_data"
    }
   ],
   "source": [
    "#plt.figure(figsize=(10,10))\n",
    "algos = ['celf', 'betweenness', 'indegree']\n",
    "\n",
    "x_axis = range(all_budgets[0], all_budgets[-1]+1)\n",
    "\n",
    "#attribute = \"mean_budget_delays_per_sensor\"\n",
    "#attribute = \"median_budget_delays_per_sensor\"\n",
    "#attribute = \"mean_budget_delays\"\n",
    "#attribute = \"median_budget_delays\"\n",
    "#attribute = \"mean_delivery_rate_per_sensor\"\n",
    "attribute = \"cummulative_delivery_rate\"\n",
    "#attribute = \"total_delivery_rate\"\n",
    "#attribute = \"total_mean_delay\"\n",
    "\n",
    "y = cities[\"celf\"][attribute]\n",
    "ax = sns.lineplot(x=x_axis, y =y, color='blue', label=\"CELF\")\n",
    "\n",
    "y = cities[\"betweenness\"][attribute]\n",
    "ax = sns.lineplot(x=x_axis, y =y, color='red', label=\"Betweenness\")\n",
    "\n",
    "y = cities[\"indegree\"][attribute]\n",
    "ax = sns.lineplot(x=x_axis, y =y, color='green', label=\"indegree\")\n",
    "\n",
    "# #x,y = process(closeness)\n",
    "# #ax = sns.lineplot(x=x, y =y, color='purple', label=\"closeness\")\n",
    "\n",
    "\n",
    "# ax.yaxis.set_major_locator(ticker.MultipleLocator(0.1))\n",
    "# ax.xaxis.set_major_locator(ticker.MultipleLocator(1))\n",
    "\n",
    "# ax.set_xlabel(\"Budget\")\n",
    "# ax.set_ylabel(\"Delivery Ratio\")\n",
    "# plt.savefig('budget_delivery_cht.png', dpi=150)"
   ]
  },
  {
   "cell_type": "code",
   "execution_count": 39,
   "metadata": {
    "scrolled": false
   },
   "outputs": [
    {
     "ename": "KeyError",
     "evalue": "'df1'",
     "output_type": "error",
     "traceback": [
      "\u001b[0;31m---------------------------------------------------------------------------\u001b[0m",
      "\u001b[0;31mKeyError\u001b[0m                                  Traceback (most recent call last)",
      "\u001b[0;32m<ipython-input-39-66cd9a6af9f3>\u001b[0m in \u001b[0;36m<module>\u001b[0;34m\u001b[0m\n\u001b[1;32m      9\u001b[0m     \u001b[0;31m#ax = sns.distplot(v['df1']['Median Delay (minutes)'].dropna(), ax=axarr[row][column], bins= 40, kde=False)\u001b[0m\u001b[0;34m\u001b[0m\u001b[0;34m\u001b[0m\u001b[0;34m\u001b[0m\u001b[0m\n\u001b[1;32m     10\u001b[0m     \u001b[0mplt\u001b[0m\u001b[0;34m.\u001b[0m\u001b[0mfigure\u001b[0m\u001b[0;34m(\u001b[0m\u001b[0mfigsize\u001b[0m\u001b[0;34m=\u001b[0m\u001b[0;34m(\u001b[0m\u001b[0;36m10\u001b[0m\u001b[0;34m,\u001b[0m\u001b[0;36m5\u001b[0m\u001b[0;34m)\u001b[0m\u001b[0;34m)\u001b[0m\u001b[0;34m\u001b[0m\u001b[0;34m\u001b[0m\u001b[0m\n\u001b[0;32m---> 11\u001b[0;31m     \u001b[0max\u001b[0m \u001b[0;34m=\u001b[0m \u001b[0msns\u001b[0m\u001b[0;34m.\u001b[0m\u001b[0mdistplot\u001b[0m\u001b[0;34m(\u001b[0m\u001b[0mv\u001b[0m\u001b[0;34m[\u001b[0m\u001b[0;34m'df1'\u001b[0m\u001b[0;34m]\u001b[0m\u001b[0;34m[\u001b[0m\u001b[0;34m'Median Delay (minutes)'\u001b[0m\u001b[0;34m]\u001b[0m\u001b[0;34m.\u001b[0m\u001b[0mdropna\u001b[0m\u001b[0;34m(\u001b[0m\u001b[0;34m)\u001b[0m\u001b[0;34m,\u001b[0m \u001b[0mbins\u001b[0m\u001b[0;34m=\u001b[0m \u001b[0;36m40\u001b[0m\u001b[0;34m,\u001b[0m \u001b[0mkde\u001b[0m\u001b[0;34m=\u001b[0m\u001b[0;32mFalse\u001b[0m\u001b[0;34m)\u001b[0m\u001b[0;34m\u001b[0m\u001b[0;34m\u001b[0m\u001b[0m\n\u001b[0m\u001b[1;32m     12\u001b[0m     \u001b[0max\u001b[0m\u001b[0;34m.\u001b[0m\u001b[0mset_title\u001b[0m\u001b[0;34m(\u001b[0m\u001b[0;34m\"{0}: {1} sensors\"\u001b[0m\u001b[0;34m.\u001b[0m\u001b[0mformat\u001b[0m\u001b[0;34m(\u001b[0m\u001b[0mk\u001b[0m\u001b[0;34m,\u001b[0m \u001b[0mlen\u001b[0m\u001b[0;34m(\u001b[0m\u001b[0mv\u001b[0m\u001b[0;34m[\u001b[0m\u001b[0;34m'df1'\u001b[0m\u001b[0;34m]\u001b[0m\u001b[0;34m)\u001b[0m\u001b[0;34m)\u001b[0m\u001b[0;34m)\u001b[0m\u001b[0;34m\u001b[0m\u001b[0;34m\u001b[0m\u001b[0m\n\u001b[1;32m     13\u001b[0m \u001b[0;34m\u001b[0m\u001b[0m\n",
      "\u001b[0;31mKeyError\u001b[0m: 'df1'"
     ]
    },
    {
     "data": {
      "text/plain": [
       "<Figure size 720x360 with 0 Axes>"
      ]
     },
     "metadata": {},
     "output_type": "display_data"
    }
   ],
   "source": [
    "import math\n",
    "#fig, axarr = plt.subplots(figsize=(15,5), nrows=math.ceil(len(cities)/2), ncols=1)\n",
    "#plt.subplots_adjust(hspace=0.35, wspace=0.2)\n",
    "\n",
    "ax = [len(cities)]\n",
    "i = 0\n",
    "\n",
    "for k,v in cities.items():\n",
    "    #row,column = i//2, i%2\n",
    "    #ax = sns.distplot(v['df1']['Median Delay (minutes)'].dropna(), ax=axarr[row][column], bins= 40, kde=False)\n",
    "    plt.figure(figsize=(10,5))\n",
    "    ax = sns.distplot(v['df1']['Median Delay (minutes)'].dropna(), bins= 40, kde=False)\n",
    "    ax.set_title(\"{0}: {1} sensors\".format(k, len(v['df1'])))\n",
    "\n",
    "    print ('Mean delay (per sensor) for {}: {}'.format(k, np.nanmean(v['df1']['Mean Delay (minutes)'])))\n",
    "    print ('Median delay (per sensor) for {}: {}'.format(k, np.nanmedian(v['df1']['Median Delay (minutes)'])))\n",
    "    print()\n",
    "    \n",
    "    ax.set_ylabel('Frequency')\n",
    "    i +=1\n",
    "    plt.plot()\n",
    "#fig.savefig('delays.png', dpi=300)"
   ]
  },
  {
   "cell_type": "code",
   "execution_count": null,
   "metadata": {
    "scrolled": false
   },
   "outputs": [],
   "source": [
    "import math\n",
    "#fig, axarr = plt.subplots(figsize=(15,5), nrows=math.ceil(len(cities)/2), ncols=1)\n",
    "plt.subplots_adjust(hspace=0.35, wspace=0.2)\n",
    "\n",
    "i = 0\n",
    "for k,v in cities.items():\n",
    "    plt.figure(figsize=(10,5))\n",
    "    \n",
    "    ax = sns.distplot(v['ons_msgs'],  kde=False, bins= 60)\n",
    "    ax.set_title(\"{0}: {1} data packets\".format(k, len(v['ons_msgs'])))\n",
    "    #ax.figure.set_size_inches((10,5))\n",
    "    ax.set_xlabel('Median Delay (minutes)'), ax.set_ylabel('Frequency')\n",
    "    print ('Mean delay (per packet) for {}: {}'.format(k, np.nanmean(v['ons_msgs'])))\n",
    "    print ('Median delay (per packet) for {}: {}'.format(k, np.nanmedian(v['ons_msgs'])))\n",
    "    print()\n",
    "    \n",
    "    \n",
    "    plt.plot()\n",
    "    \n",
    "    \n",
    "    i +=1\n",
    "#fig.savefig('delays2.png', dpi=300)"
   ]
  },
  {
   "cell_type": "code",
   "execution_count": null,
   "metadata": {},
   "outputs": [],
   "source": [
    "i = 0\n",
    "for k,v in cities.items():\n",
    "    plt.figure(figsize=(10,5))\n",
    "    \n",
    "    a = v['ons_wait_times'][~np.isnan(v['ons_wait_times'])]\n",
    "    b = v['ons_route_times'][~np.isnan(v['ons_route_times'])]\n",
    "    \n",
    "    ax = sns.boxplot(\n",
    "        x=['Sensor \\u2192 Bus','Bus \\u2192 Gateway'],\n",
    "        y=[a, b]\n",
    "    )\n",
    "    ax.set_ylabel('Delay (Minutes)')\n",
    "    ax.figure.set_size_inches((5,5))\n",
    "    ax.set_title(k + \": Delays for on-route packets\")\n",
    "    ax.figure.savefig('e.png', dpi=300)\n",
    "\n",
    "    print(\"For {}\".format(k), \"\\n\")\n",
    "    print(\n",
    "        \"Sensor->Bus \\nMean: {0}, Median: {1}\".format(\n",
    "            np.nanmean(v['ons_wait_times']), \n",
    "            np.nanmedian(v['ons_wait_times'])\n",
    "        )\n",
    "    )\n",
    "    \n",
    "    print(\n",
    "        \"Bus->Gateway \\nMean: {0}, Median: {1}\".format(\n",
    "            np.nanmean(v['ons_route_times']),\n",
    "            np.nanmedian(v['ons_route_times'])\n",
    "        )\n",
    "    )\n",
    "    print('\\n\\n')"
   ]
  },
  {
   "cell_type": "code",
   "execution_count": null,
   "metadata": {},
   "outputs": [],
   "source": [
    "import math\n",
    "#fig, axarr = plt.subplots(figsize=(15,5), nrows=math.ceil(len(cities)/2), ncols=1)\n",
    "#plt.subplots_adjust(hspace=0.35, wspace=0.2)\n",
    "\n",
    "ax = [len(cities)]\n",
    "i = 0\n",
    "for k,v in cities.items():\n",
    "    plt.figure(figsize=(10,5))\n",
    "    ax = sns.distplot(v['df1']['delivery_rate'].dropna(), bins= 40, kde=False)\n",
    "    ax.set_title(\"{0}: {1} sensors\".format(k, len(v['df1'])))\n",
    "    \n",
    "    print ('Median delivery rate (per sensor) for {}: {}'.format(k, np.nanmedian(v['df1']['delivery_rate'])))\n",
    "    print ('Cummulative delivery rate for {}: {}'.format(k, v['total_delivered']/v['total_generated']))\n",
    "    print()\n",
    "    \n",
    "    ax.set_xlabel('Delivery Rates')\n",
    "    ax.set_ylabel('Frequency')\n",
    "    i +=1\n",
    "    plt.plot()\n",
    "\n",
    "#fig.savefig('delays.png', dpi=300)"
   ]
  },
  {
   "cell_type": "code",
   "execution_count": null,
   "metadata": {},
   "outputs": [],
   "source": []
  }
 ],
 "metadata": {
  "kernelspec": {
   "display_name": "Python 3",
   "language": "python",
   "name": "python3"
  }
 },
 "nbformat": 4,
 "nbformat_minor": 1
}
