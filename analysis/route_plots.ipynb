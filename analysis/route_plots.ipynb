{
 "cells": [
  {
   "cell_type": "code",
   "execution_count": 1,
   "metadata": {},
   "outputs": [
    {
     "ename": "ModuleNotFoundError",
     "evalue": "No module named 'figures'",
     "output_type": "error",
     "traceback": [
      "\u001b[0;31m---------------------------------------------------------------------------\u001b[0m",
      "\u001b[0;31mModuleNotFoundError\u001b[0m                       Traceback (most recent call last)",
      "\u001b[0;32m<ipython-input-1-ec4780c08f6e>\u001b[0m in \u001b[0;36m<module>\u001b[0;34m\u001b[0m\n\u001b[1;32m      7\u001b[0m \u001b[0;32mimport\u001b[0m \u001b[0mnumpy\u001b[0m \u001b[0;32mas\u001b[0m \u001b[0mnp\u001b[0m\u001b[0;34m\u001b[0m\u001b[0;34m\u001b[0m\u001b[0m\n\u001b[1;32m      8\u001b[0m \u001b[0;34m\u001b[0m\u001b[0m\n\u001b[0;32m----> 9\u001b[0;31m \u001b[0;32mfrom\u001b[0m \u001b[0mfigures\u001b[0m \u001b[0;32mimport\u001b[0m \u001b[0mSIZE\u001b[0m\u001b[0;34m,\u001b[0m \u001b[0mset_limits\u001b[0m\u001b[0;34m,\u001b[0m \u001b[0mplot_coords\u001b[0m\u001b[0;34m,\u001b[0m \u001b[0mplot_bounds\u001b[0m\u001b[0;34m,\u001b[0m \u001b[0mplot_line_issimple\u001b[0m\u001b[0;34m\u001b[0m\u001b[0;34m\u001b[0m\u001b[0m\n\u001b[0m",
      "\u001b[0;31mModuleNotFoundError\u001b[0m: No module named 'figures'"
     ]
    }
   ],
   "source": [
    "from matplotlib import pyplot\n",
    "import matplotlib.gridspec as gridspec\n",
    "from os import listdir\n",
    "from shapely.geometry import *\n",
    "import re\n",
    "from collections import defaultdict as dd\n",
    "import numpy as np\n",
    "\n",
    "from figures import SIZE, set_limits, plot_coords, plot_bounds, plot_line_issimple"
   ]
  },
  {
   "cell_type": "markdown",
   "metadata": {},
   "source": [
    "### Helper Methods"
   ]
  },
  {
   "cell_type": "code",
   "execution_count": null,
   "metadata": {},
   "outputs": [],
   "source": [
    "COLOR = {\n",
    "    True:  '#6699cc',\n",
    "    False: '#ffcc33'\n",
    "    }\n",
    "\n",
    "LINE_COLOR = {\n",
    "    1:  '#6699cc',\n",
    "    2: '#ffcc33'\n",
    "    }\n",
    "\n",
    "def v_color(ob):\n",
    "    return COLOR[ob.is_simple]\n",
    "\n",
    "def plot_coords(ax, ob):\n",
    "    x, y = ob.xy\n",
    "    ax.plot(x, y, '+', color='#999999', zorder=1)\n",
    "\n",
    "def plot_bounds(ax, ob):\n",
    "    x, y = zip(*list((p.x, p.y) for p in ob.boundary))\n",
    "    ax.plot(x, y, 'o', color='#000000', zorder=1)\n",
    "    \n",
    "def plot_start(ax, ob, color):\n",
    "    ax.plot(ob[0][0], ob[0][1], 'o', color=color, zorder=1)\n",
    "    \n",
    "def plot_end(ax, ob, color):\n",
    "    ax.plot(ob[-1][0], ob[-1][1], 'o', color=color, zorder=1)\n",
    "    \n",
    "def plot_line(ax, ob):\n",
    "    x, y = ob.xy\n",
    "    ax.plot(x, y, color=v_color(ob), alpha=0.7, linewidth=3, solid_capstyle='round', zorder=2)\n",
    "    \n",
    "def plot_radius(ax, pts, radius):\n",
    "    x = [x[0] for x in pts]\n",
    "    y = [x[1] for x in pts]\n",
    "\n",
    "    for i in range(len(x)):\n",
    "        circle= plt.Circle((x[i],y[i]), radius, fill=False, color='green')\n",
    "        ax.add_patch(circle)\n",
    "\n",
    "    \n",
    "def plot_line2(ax, ob, line_no, linewidth = 2):\n",
    "    x, y = ob.xy\n",
    "    ax.plot(x, y, color=LINE_COLOR[line_no], alpha=0.7, linewidth=linewidth, solid_capstyle='round', zorder=2)"
   ]
  },
  {
   "cell_type": "markdown",
   "metadata": {},
   "source": [
    "### my helper methods"
   ]
  },
  {
   "cell_type": "code",
   "execution_count": 2,
   "metadata": {},
   "outputs": [],
   "source": [
    "def find_between( s, first, last ):\n",
    "    try:\n",
    "        start = s.index( first ) + len( first )\n",
    "        end = s.index( last, start )\n",
    "        return s[start:end]\n",
    "    except ValueError:\n",
    "        return \"\"\n",
    "\n",
    "def find_between_r( s, first, last ):\n",
    "    try:\n",
    "        start = s.rindex( first ) + len( first )\n",
    "        end = s.rindex( last, start )\n",
    "        return s[start:end]\n",
    "    except ValueError:\n",
    "        return \"\""
   ]
  },
  {
   "cell_type": "code",
   "execution_count": 3,
   "metadata": {},
   "outputs": [],
   "source": [
    "def to_list_of_tuples(linestring):\n",
    "    #data = 'LINESTRING (9450.877 9108.077, 9682.0 9166.954, 9916.415 9219.2949910.783 7790.984, 9612.096 7797.533, 9180.766 8243.202, 9078.775 8430.877, 8933.664 8636.844, 8995.492 8806.894, 9110.6 8992.445)'\n",
    "  \n",
    "    #print (linestring.count('LINESTRING '))\n",
    "    data = linestring.replace('LINESTRING ', '')[1:-1]\n",
    "    \n",
    "    li = data.split(')(')\n",
    "    #print(li)\n",
    "\n",
    "    li[0] = li[0].split(',')\n",
    "    li[1] = li[1].split(',')\n",
    "   \n",
    "    list_tuple = []\n",
    "    \n",
    "    for i in range(len(li)):\n",
    "        list_tuple.append([])\n",
    "        for x in li[i]:\n",
    "            cord = x.strip().split(' ')\n",
    "            t =(float(cord[0]), float(cord[1]),)\n",
    "            list_tuple[i].append(t)\n",
    "\n",
    "    return list_tuple"
   ]
  },
  {
   "cell_type": "markdown",
   "metadata": {},
   "source": [
    "### Helper function to find med and min of bus stop interval for each direction"
   ]
  },
  {
   "cell_type": "code",
   "execution_count": 4,
   "metadata": {},
   "outputs": [],
   "source": [
    "def bus_stop_distances(pts):\n",
    "\n",
    "    import statistics\n",
    "    import math\n",
    "    import numpy as np\n",
    "\n",
    "\n",
    "   # pts = [(10,10), (10,11), (20,11), (20,10), (10,10)]\n",
    "\n",
    "    ptdiff = lambda p: (p[0][0]-p[1][0], p[0][1]-p[1][1]) \n",
    "    diffs = map (ptdiff , zip(pts[:-1],pts[1:])) \n",
    "    path = [math.hypot(d1,d2) for d1,d2 in list(diffs)]\n",
    "   # print (path)\n",
    "\n",
    "    med = statistics.median(path)\n",
    "    mini = min(path)\n",
    "    mean = np.mean(path)\n",
    "   # print(\"Median of data-set is : % s \" % (med)) \n",
    "   # print(\"Min of data-set is : % s \" % (mini)) \n",
    "    \n",
    "    return {'med': med, 'min':mini, 'mean': mean}"
   ]
  },
  {
   "cell_type": "code",
   "execution_count": 5,
   "metadata": {},
   "outputs": [
    {
     "name": "stdout",
     "output_type": "stream",
     "text": [
      "2.8181818181818183 2.8181818181818183\n"
     ]
    }
   ],
   "source": [
    "import numpy as np\n",
    "a = [1,2,2,3,2,1,4,5,5,5,1]\n",
    "print(np.mean(a), np.average(a))"
   ]
  },
  {
   "cell_type": "markdown",
   "metadata": {},
   "source": [
    "### Load Routes"
   ]
  },
  {
   "cell_type": "code",
   "execution_count": 6,
   "metadata": {},
   "outputs": [
    {
     "ename": "FileNotFoundError",
     "evalue": "[Errno 2] No such file or directory: 'ch_routes_2d/'",
     "output_type": "error",
     "traceback": [
      "\u001b[0;31m---------------------------------------------------------------------------\u001b[0m",
      "\u001b[0;31mFileNotFoundError\u001b[0m                         Traceback (most recent call last)",
      "\u001b[0;32m<ipython-input-6-4c8f961b963b>\u001b[0m in \u001b[0;36m<module>\u001b[0;34m\u001b[0m\n\u001b[1;32m      1\u001b[0m \u001b[0mroutefolder\u001b[0m\u001b[0;34m=\u001b[0m \u001b[0;34m\"ch_routes_2d/\"\u001b[0m\u001b[0;34m\u001b[0m\u001b[0;34m\u001b[0m\u001b[0m\n\u001b[0;32m----> 2\u001b[0;31m \u001b[0mr\u001b[0m \u001b[0;34m=\u001b[0m \u001b[0mlistdir\u001b[0m\u001b[0;34m(\u001b[0m\u001b[0mroutefolder\u001b[0m\u001b[0;34m)\u001b[0m\u001b[0;34m\u001b[0m\u001b[0;34m\u001b[0m\u001b[0m\n\u001b[0m\u001b[1;32m      3\u001b[0m \u001b[0mgroups\u001b[0m \u001b[0;34m=\u001b[0m \u001b[0;34m{\u001b[0m\u001b[0;34m}\u001b[0m\u001b[0;34m\u001b[0m\u001b[0;34m\u001b[0m\u001b[0m\n\u001b[1;32m      4\u001b[0m \u001b[0ms_string\u001b[0m \u001b[0;34m=\u001b[0m \u001b[0;34m\"\"\u001b[0m\u001b[0;34m\u001b[0m\u001b[0;34m\u001b[0m\u001b[0m\n\u001b[1;32m      5\u001b[0m \u001b[0mlinestrings\u001b[0m \u001b[0;34m=\u001b[0m \u001b[0;34m{\u001b[0m\u001b[0;34m}\u001b[0m\u001b[0;34m\u001b[0m\u001b[0;34m\u001b[0m\u001b[0m\n",
      "\u001b[0;31mFileNotFoundError\u001b[0m: [Errno 2] No such file or directory: 'ch_routes_2d/'"
     ]
    }
   ],
   "source": [
    "routefolder= \"ch_routes_2d/\"\n",
    "r = listdir(routefolder)\n",
    "groups = {}\n",
    "s_string = \"\"\n",
    "linestrings = {}\n",
    "end1_start2 =dd(list)\n",
    "\n",
    "for x in r[:]:\n",
    "    if \".wkt\" not in x:\n",
    "        r.remove(x)\n",
    "        continue\n",
    "        \n",
    "    with open(routefolder + x, 'r') as myfile:\n",
    "        key = x.replace('.wkt','')\n",
    "        data=myfile.read().replace('\\n', '')\n",
    "        \n",
    "        #get end of first direction and start of second \n",
    "        #start, end, start2, end2 = ',', ')', ')LINESTRING (', ','\n",
    "        #end1 = find_between( data, start, end).split(' ')[-2:]\n",
    "        #start2 = find_between( data, start2, end2).split(' ')\n",
    "        \n",
    "        #end1 = [float(x) for x in end1]\n",
    "        #start2 = [float(x) for x in start2]\n",
    "        \n",
    "        #end1_start2[key].extend([tuple(end1),tuple(start2)])\n",
    "        ls = to_list_of_tuples(data)\n",
    "        linestrings[key] = ls"
   ]
  },
  {
   "cell_type": "markdown",
   "metadata": {},
   "source": [
    "Save route distances to json file"
   ]
  },
  {
   "cell_type": "code",
   "execution_count": 9,
   "metadata": {},
   "outputs": [],
   "source": [
    "import json\n",
    "def output_distances(linestrings):\n",
    "    linearRings = {}\n",
    "    for k,l in linestrings.items():\n",
    "        l = l[0] + l[1]\n",
    "        linearRings[k] = LinearRing(l).length\n",
    "        #linearRings[k]['line'] = l\n",
    "        #linearRings['distance'] =  LineString(l).length\n",
    "        \n",
    "    with open('route_distances.json', 'w') as outfile:\n",
    "        json.dump(linearRings, outfile, indent=4)"
   ]
  },
  {
   "cell_type": "markdown",
   "metadata": {},
   "source": [
    "### Plot Routes"
   ]
  },
  {
   "cell_type": "code",
   "execution_count": 1,
   "metadata": {
    "scrolled": false
   },
   "outputs": [
    {
     "ename": "NameError",
     "evalue": "name 'linestrings' is not defined",
     "output_type": "error",
     "traceback": [
      "\u001b[0;31m---------------------------------------------------------------------------\u001b[0m",
      "\u001b[0;31mNameError\u001b[0m                                 Traceback (most recent call last)",
      "\u001b[0;32m<ipython-input-1-7376713f7702>\u001b[0m in \u001b[0;36m<module>\u001b[0;34m\u001b[0m\n\u001b[1;32m      1\u001b[0m \u001b[0mcols\u001b[0m \u001b[0;34m=\u001b[0m \u001b[0;36m2\u001b[0m\u001b[0;34m\u001b[0m\u001b[0;34m\u001b[0m\u001b[0m\n\u001b[0;32m----> 2\u001b[0;31m \u001b[0mrows\u001b[0m \u001b[0;34m=\u001b[0m \u001b[0;34m(\u001b[0m\u001b[0mlen\u001b[0m\u001b[0;34m(\u001b[0m\u001b[0mlinestrings\u001b[0m\u001b[0;34m)\u001b[0m\u001b[0;34m//\u001b[0m\u001b[0mcols\u001b[0m\u001b[0;34m)\u001b[0m \u001b[0;34m+\u001b[0m \u001b[0;36m1\u001b[0m\u001b[0;34m\u001b[0m\u001b[0;34m\u001b[0m\u001b[0m\n\u001b[0m\u001b[1;32m      3\u001b[0m \u001b[0mgs\u001b[0m \u001b[0;34m=\u001b[0m \u001b[0mgridspec\u001b[0m\u001b[0;34m.\u001b[0m\u001b[0mGridSpec\u001b[0m\u001b[0;34m(\u001b[0m\u001b[0mrows\u001b[0m\u001b[0;34m,\u001b[0m \u001b[0mcols\u001b[0m\u001b[0;34m)\u001b[0m\u001b[0;34m\u001b[0m\u001b[0;34m\u001b[0m\u001b[0m\n\u001b[1;32m      4\u001b[0m \u001b[0;34m\u001b[0m\u001b[0m\n\u001b[1;32m      5\u001b[0m \u001b[0mgs\u001b[0m\u001b[0;34m.\u001b[0m\u001b[0mupdate\u001b[0m\u001b[0;34m(\u001b[0m\u001b[0mhspace\u001b[0m\u001b[0;34m=\u001b[0m\u001b[0;36m0.4\u001b[0m\u001b[0;34m)\u001b[0m\u001b[0;34m\u001b[0m\u001b[0;34m\u001b[0m\u001b[0m\n",
      "\u001b[0;31mNameError\u001b[0m: name 'linestrings' is not defined"
     ]
    }
   ],
   "source": [
    "cols = 2\n",
    "rows = (len(linestrings)//cols) + 1\n",
    "gs = gridspec.GridSpec(rows, cols)\n",
    "\n",
    "gs.update(hspace=0.4)\n",
    "# define the data for cartesian plots\n",
    "\n",
    "distances= []\n",
    "fig = pyplot.figure(1, figsize = (20, 160), dpi = 180)\n",
    "ax = []\n",
    "\n",
    "i = 0\n",
    "\n",
    "output_distances(linestrings)\n",
    "\n",
    "for k,l in linestrings.items():\n",
    "    row = (i // cols)\n",
    "    col = i % cols\n",
    "    i += 1\n",
    "\n",
    "    line1 = LineString(l[0])\n",
    "    line2 = LineString(l[1])\n",
    "    line = LinearRing(l[0] +l[1])\n",
    "    #print(line.length)\n",
    "    #line = line.simplify(500, preserve_topology=False)\n",
    "\n",
    "    ax.append(fig.add_subplot(gs[row, col]))\n",
    "    title = 'Route: {0} \\n Distance: {1} Km'.format(k, int(line1.length + line2.length)/1000)\n",
    "    ax[-1].set_title(title)\n",
    "    #ax[-1].set_aspect(1)\n",
    "    \n",
    "    distances.append(line1.length + line2.length)\n",
    "\n",
    "    plot_coords(ax[-1], line1) #Important\n",
    "    plot_coords(ax[-1], line2)\n",
    "    \n",
    "    # show radius of avg distance between stops\n",
    "    #radius0 = bus_stop_distances(l[0])['min']\n",
    "    #plot_radius(ax[-1], l[0], radius0)\n",
    "   \n",
    "    # radius1 = bus_stop_distances(l[1])['min']\n",
    "   # plot_radius(ax[-1], l[1], radius1)\n",
    "    \n",
    "    \n",
    "    #plot_bounds(ax, line)\n",
    "    plot_start(ax[-1], l[0], '#202ee9')\n",
    "    plot_end(ax[-1], l[0], '#e920d8')\n",
    "    plot_start(ax[-1], l[1], '#00FF00')\n",
    "    plot_end(ax[-1], l[1], '#FF0000')\n",
    "    \n",
    "    \n",
    "    #plot_line_issimple(ax[-1], line1, alpha=0.7)\n",
    "    \n",
    "    plot_line2(ax[-1], line1, 1, linewidth = 2)\n",
    "    plot_line2(ax[-1], line2, 2, linewidth = 2)\n",
    "    \n",
    "    plot_line2(ax[-1], LineString((l[0][-1], l[1][0])), 1)\n",
    "    plot_line2(ax[-1], LineString((l[1][-1], l[0][0])), 2)\n",
    "    \n",
    "\n",
    "pyplot.show()\n"
   ]
  },
  {
   "cell_type": "code",
   "execution_count": 14,
   "metadata": {},
   "outputs": [
    {
     "name": "stdout",
     "output_type": "stream",
     "text": [
      "15703.568806761858 7316.063988256744\n"
     ]
    }
   ],
   "source": [
    "print (np.mean(distances), np.std(distances))"
   ]
  },
  {
   "cell_type": "code",
   "execution_count": 16,
   "metadata": {},
   "outputs": [
    {
     "data": {
      "text/plain": [
       "<matplotlib.axes._subplots.AxesSubplot at 0x121eea7b8>"
      ]
     },
     "execution_count": 16,
     "metadata": {},
     "output_type": "execute_result"
    },
    {
     "data": {
      "image/png": "[encoded data removed]",
      "text/plain": [
       "<Figure size 432x288 with 1 Axes>"
      ]
     },
     "metadata": {
      "needs_background": "light"
     },
     "output_type": "display_data"
    }
   ],
   "source": [
    "import seaborn as sns\n",
    "sns.distplot(distances, kde=True, bins=30)"
   ]
  },
  {
   "cell_type": "code",
   "execution_count": null,
   "metadata": {},
   "outputs": [],
   "source": []
  }
 ],
 "metadata": {
  "kernelspec": {
   "display_name": "Python 3",
   "language": "python",
   "name": "python3"
  },
  "language_info": {
   "codemirror_mode": {
    "name": "ipython",
    "version": 3
   },
   "file_extension": ".py",
   "mimetype": "text/x-python",
   "name": "python",
   "nbconvert_exporter": "python",
   "pygments_lexer": "ipython3",
   "version": "3.7.4"
  }
 },
 "nbformat": 4,
 "nbformat_minor": 2
}
